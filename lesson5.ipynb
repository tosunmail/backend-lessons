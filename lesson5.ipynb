{
 "cells": [
  {
   "cell_type": "code",
   "execution_count": 36,
   "metadata": {},
   "outputs": [],
   "source": [
    "def BMI_func(height, weight):\n",
    "    '''\n",
    "    This func calculates BMI\n",
    "    '''\n",
    "    result = round(weight / (height **2)) \n",
    "    if result >= 25:\n",
    "        print('overweight')\n",
    "    elif result > 30:\n",
    "        print('obez')\n",
    "    elif result <= 24:\n",
    "        print('normal')\n",
    "    elif result < 20:\n",
    "        print('skinny')  \n",
    "        "
   ]
  },
  {
   "cell_type": "code",
   "execution_count": 38,
   "metadata": {},
   "outputs": [
    {
     "name": "stdout",
     "output_type": "stream",
     "text": [
      "normal\n"
     ]
    }
   ],
   "source": [
    "BMI_func(175,95)"
   ]
  },
  {
   "cell_type": "code",
   "execution_count": 53,
   "metadata": {},
   "outputs": [
    {
     "name": "stdout",
     "output_type": "stream",
     "text": [
      "You can't division by zero\n"
     ]
    }
   ],
   "source": [
    "num1 = 5\n",
    "num2 = 0\n",
    "\n",
    "\n",
    "try:\n",
    "    num1/num2\n",
    "except ZeroDivisionError:\n",
    "    print(\"You can't division by zero\")\n",
    "except TypeError:\n",
    "    print(\"unsupported operand type(s) for /: 'int' and 'str'\")\n",
    "except:\n",
    "    print(\"Something is wrong!\")"
   ]
  },
  {
   "cell_type": "code",
   "execution_count": 60,
   "metadata": {},
   "outputs": [
    {
     "name": "stdout",
     "output_type": "stream",
     "text": [
      "Hallo\n",
      "No problema\n",
      "this always works\n"
     ]
    }
   ],
   "source": [
    "try:\n",
    "    print('Hallo')\n",
    "except:\n",
    "    print('something\\'s wrong')\n",
    "else:\n",
    "    print('No problema')        \n",
    "finally:\n",
    "    print('this always works')    "
   ]
  },
  {
   "cell_type": "code",
   "execution_count": null,
   "metadata": {},
   "outputs": [],
   "source": []
  }
 ],
 "metadata": {
  "kernelspec": {
   "display_name": "Python 3",
   "language": "python",
   "name": "python3"
  },
  "language_info": {
   "codemirror_mode": {
    "name": "ipython",
    "version": 3
   },
   "file_extension": ".py",
   "mimetype": "text/x-python",
   "name": "python",
   "nbconvert_exporter": "python",
   "pygments_lexer": "ipython3",
   "version": "3.11.3"
  },
  "orig_nbformat": 4
 },
 "nbformat": 4,
 "nbformat_minor": 2
}
