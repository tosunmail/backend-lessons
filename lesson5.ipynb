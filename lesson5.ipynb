{
 "cells": [
  {
   "cell_type": "code",
   "execution_count": 81,
   "metadata": {},
   "outputs": [],
   "source": [
    "def BMI_func(height, weight):\n",
    "    '''\n",
    "    This func calculates BMI\n",
    "    '''\n",
    "\n",
    "    try:\n",
    "        result = round(weight / (height **2)) \n",
    "        if result >= 25 :\n",
    "            print('overweight')\n",
    "        elif result > 30:\n",
    "            print('obez')\n",
    "        elif result <= 24:\n",
    "            print('normal')\n",
    "        elif result < 20:\n",
    "            print('skinny')  \n",
    "            \n",
    "    except ZeroDivisionError:\n",
    "        print('Can not be calculated')\n",
    "    except TypeError:\n",
    "        print('enter a number')    \n",
    "        "
   ]
  },
  {
   "cell_type": "code",
   "execution_count": 80,
   "metadata": {},
   "outputs": [
    {
     "name": "stdout",
     "output_type": "stream",
     "text": [
      "enter a number\n"
     ]
    }
   ],
   "source": [
    "BMI_func(1.75,'wsdr')"
   ]
  },
  {
   "cell_type": "code",
   "execution_count": 53,
   "metadata": {},
   "outputs": [
    {
     "name": "stdout",
     "output_type": "stream",
     "text": [
      "You can't division by zero\n"
     ]
    }
   ],
   "source": [
    "num1 = 5\n",
    "num2 = 0\n",
    "\n",
    "\n",
    "try:\n",
    "    num1/num2\n",
    "except ZeroDivisionError:\n",
    "    print(\"You can't division by zero\")\n",
    "except TypeError:\n",
    "    print(\"unsupported operand type(s) for /: 'int' and 'str'\")\n",
    "except:\n",
    "    print(\"Something is wrong!\")"
   ]
  },
  {
   "cell_type": "code",
   "execution_count": 60,
   "metadata": {},
   "outputs": [
    {
     "name": "stdout",
     "output_type": "stream",
     "text": [
      "Hallo\n",
      "No problema\n",
      "this always works\n"
     ]
    }
   ],
   "source": [
    "try:\n",
    "    print('Hallo')\n",
    "except:\n",
    "    print('something\\'s wrong')\n",
    "else:\n",
    "    print('No problema')        \n",
    "finally:\n",
    "    print('this always works')    "
   ]
  },
  {
   "cell_type": "code",
   "execution_count": 82,
   "metadata": {},
   "outputs": [],
   "source": [
    "num3 = 5\n",
    "num4 = -1"
   ]
  },
  {
   "cell_type": "code",
   "execution_count": 84,
   "metadata": {},
   "outputs": [
    {
     "ename": "Exception",
     "evalue": "number must be positif",
     "output_type": "error",
     "traceback": [
      "\u001b[1;31m---------------------------------------------------------------------------\u001b[0m",
      "\u001b[1;31mException\u001b[0m                                 Traceback (most recent call last)",
      "Cell \u001b[1;32mIn[84], line 2\u001b[0m\n\u001b[0;32m      1\u001b[0m \u001b[39mif\u001b[39;00m num4 \u001b[39m<\u001b[39m \u001b[39m0\u001b[39m:\n\u001b[1;32m----> 2\u001b[0m    \u001b[39mraise\u001b[39;00m \u001b[39mException\u001b[39;00m(\u001b[39m'\u001b[39m\u001b[39mnumber must be positif\u001b[39m\u001b[39m'\u001b[39m)\n",
      "\u001b[1;31mException\u001b[0m: number must be positif"
     ]
    }
   ],
   "source": [
    "if num4 < 0:\n",
    "   raise Exception('number must be positif')"
   ]
  },
  {
   "cell_type": "code",
   "execution_count": 85,
   "metadata": {},
   "outputs": [
    {
     "ename": "TypeError",
     "evalue": "enter number",
     "output_type": "error",
     "traceback": [
      "\u001b[1;31m---------------------------------------------------------------------------\u001b[0m",
      "\u001b[1;31mTypeError\u001b[0m                                 Traceback (most recent call last)",
      "Cell \u001b[1;32mIn[85], line 4\u001b[0m\n\u001b[0;32m      1\u001b[0m var1 \u001b[39m=\u001b[39m \u001b[39m'\u001b[39m\u001b[39mstring\u001b[39m\u001b[39m'\u001b[39m\n\u001b[0;32m      3\u001b[0m \u001b[39mif\u001b[39;00m \u001b[39mnot\u001b[39;00m \u001b[39mtype\u001b[39m(var1) \u001b[39mis\u001b[39;00m \u001b[39mint\u001b[39m:\n\u001b[1;32m----> 4\u001b[0m     \u001b[39mraise\u001b[39;00m \u001b[39mTypeError\u001b[39;00m(\u001b[39m'\u001b[39m\u001b[39menter number\u001b[39m\u001b[39m'\u001b[39m)\n",
      "\u001b[1;31mTypeError\u001b[0m: enter number"
     ]
    }
   ],
   "source": [
    "var1 = 'string'\n",
    "\n",
    "if not type(var1) is int:\n",
    "    raise TypeError('enter number')"
   ]
  },
  {
   "cell_type": "code",
   "execution_count": null,
   "metadata": {},
   "outputs": [],
   "source": []
  }
 ],
 "metadata": {
  "kernelspec": {
   "display_name": "Python 3",
   "language": "python",
   "name": "python3"
  },
  "language_info": {
   "codemirror_mode": {
    "name": "ipython",
    "version": 3
   },
   "file_extension": ".py",
   "mimetype": "text/x-python",
   "name": "python",
   "nbconvert_exporter": "python",
   "pygments_lexer": "ipython3",
   "version": "3.11.3"
  },
  "orig_nbformat": 4
 },
 "nbformat": 4,
 "nbformat_minor": 2
}
