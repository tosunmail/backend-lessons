{
 "cells": [
  {
   "cell_type": "code",
   "execution_count": 13,
   "metadata": {},
   "outputs": [
    {
     "name": "stdout",
     "output_type": "stream",
     "text": [
      "this block works!\n"
     ]
    }
   ],
   "source": [
    "if True:\n",
    "    print('this block works!')"
   ]
  },
  {
   "cell_type": "code",
   "execution_count": 50,
   "metadata": {},
   "outputs": [
    {
     "name": "stdout",
     "output_type": "stream",
     "text": [
      "take jacket at least\n"
     ]
    }
   ],
   "source": [
    "rainy = False\n",
    "cloudy = True\n",
    "if rainy: \n",
    "    print('take umbrella!')\n",
    "elif cloudy:\n",
    "    print('take jacket at least')    \n",
    "else:\n",
    "    print('no umbrella needed')"
   ]
  },
  {
   "cell_type": "code",
   "execution_count": 59,
   "metadata": {},
   "outputs": [
    {
     "name": "stdout",
     "output_type": "stream",
     "text": [
      "15 is  greater than 10 \n"
     ]
    }
   ],
   "source": [
    "a = 15\n",
    "b = 10\n",
    "\n",
    "if a > b:\n",
    "    print(f'{a} is  greater than {b} ')\n",
    "elif a == b:\n",
    "    print(f'{a} and {b} are equel ')\n",
    "else:\n",
    "    print(f'{a} is smaller')\n"
   ]
  },
  {
   "cell_type": "code",
   "execution_count": 61,
   "metadata": {},
   "outputs": [
    {
     "name": "stdout",
     "output_type": "stream",
     "text": [
      "num is less than or equal to 10\n"
     ]
    }
   ],
   "source": [
    "num = 5\n",
    "if num > 10:\n",
    "  print(\"num is greater than 10\")\n",
    "else:\n",
    "  print(\"num is less than or equal to 10\")"
   ]
  },
  {
   "cell_type": "code",
   "execution_count": 63,
   "metadata": {},
   "outputs": [
    {
     "name": "stdout",
     "output_type": "stream",
     "text": [
      "num is less than or equal to 10\n"
     ]
    }
   ],
   "source": [
    "print(\"num is greater than 10\") if num > 10 else print(\"num is less than or equal to 10\")"
   ]
  },
  {
   "cell_type": "code",
   "execution_count": 71,
   "metadata": {},
   "outputs": [
    {
     "name": "stdout",
     "output_type": "stream",
     "text": [
      "Page number 10\n"
     ]
    }
   ],
   "source": [
    "status = 200\n",
    "\n",
    "match status:\n",
    "    case 200:\n",
    "        print('Page number 10')\n",
    "    case 400:\n",
    "        print('bad request') \n",
    "    case _:\n",
    "        print('another status code')       "
   ]
  },
  {
   "cell_type": "code",
   "execution_count": 7,
   "metadata": {},
   "outputs": [
    {
     "name": "stdout",
     "output_type": "stream",
     "text": [
      "Countdown 5\n",
      "Countdown 4\n",
      "Countdown 3\n",
      "Countdown 2\n",
      "Countdown 1\n",
      "fire\n"
     ]
    }
   ],
   "source": [
    "import time \n",
    "num  = 5 \n",
    "while num > 0:\n",
    "    print(f'Countdown {num}')\n",
    "    time.sleep(1)\n",
    "    num -= 1\n",
    "    if num == 0:\n",
    "\n",
    "        print(\"fire\")"
   ]
  },
  {
   "cell_type": "code",
   "execution_count": 14,
   "metadata": {},
   "outputs": [
    {
     "name": "stdout",
     "output_type": "stream",
     "text": [
      "2 attempt left\n",
      "1 attempt left\n",
      "0 attempt left\n",
      "please contact with manager\n"
     ]
    }
   ],
   "source": [
    "pw = ''\n",
    "attempt = 3\n",
    "\n",
    "while pw != 'secret' and attempt > 0:\n",
    "     pw = input('enter password')\n",
    "     attempt -= 1\n",
    "     print(f'{attempt} attempt left')\n",
    "\n",
    "print('please contact with manager')"
   ]
  },
  {
   "cell_type": "code",
   "execution_count": 15,
   "metadata": {},
   "outputs": [
    {
     "name": "stdout",
     "output_type": "stream",
     "text": [
      "t\n",
      "o\n",
      "s\n",
      "t\n"
     ]
    }
   ],
   "source": [
    "name = 'tost'\n",
    "\n",
    "for char in name:\n",
    "    print(char)"
   ]
  },
  {
   "cell_type": "code",
   "execution_count": 18,
   "metadata": {},
   "outputs": [
    {
     "name": "stdout",
     "output_type": "stream",
     "text": [
      "apple\n",
      "banana\n",
      "cherry\n"
     ]
    }
   ],
   "source": [
    "fruits = ['apple' , 'banana' , 'cherry']\n",
    "\n",
    "for fruit in fruits:\n",
    "    print(fruit)"
   ]
  },
  {
   "cell_type": "code",
   "execution_count": 20,
   "metadata": {},
   "outputs": [
    {
     "name": "stdout",
     "output_type": "stream",
     "text": [
      "5\n",
      "15\n",
      "25\n",
      "35\n",
      "45\n"
     ]
    }
   ],
   "source": [
    "for num in range(5 , 50 , 10):\n",
    "     print(num)"
   ]
  },
  {
   "cell_type": "code",
   "execution_count": 24,
   "metadata": {},
   "outputs": [
    {
     "name": "stdout",
     "output_type": "stream",
     "text": [
      "apple\n"
     ]
    }
   ],
   "source": [
    "fruits = ['apple' , 'banana' , 'cherry'] \n",
    "for fruit in fruits:\n",
    "    if fruit == 'banana':\n",
    "        break\n",
    "    print(fruit)"
   ]
  },
  {
   "cell_type": "code",
   "execution_count": 7,
   "metadata": {},
   "outputs": [
    {
     "name": "stdout",
     "output_type": "stream",
     "text": [
      "1\n",
      "2\n",
      "3\n",
      "4\n"
     ]
    }
   ],
   "source": [
    "num = 1\n",
    "while  num < 11 :\n",
    "    if num == 5:\n",
    "        break\n",
    "    print(num)\n",
    "    num += 1\n",
    "   \n",
    "       "
   ]
  },
  {
   "cell_type": "code",
   "execution_count": 12,
   "metadata": {},
   "outputs": [
    {
     "name": "stdout",
     "output_type": "stream",
     "text": [
      "1\n",
      "2\n",
      "3\n",
      "4\n",
      "6\n",
      "7\n",
      "8\n",
      "9\n",
      "10\n"
     ]
    }
   ],
   "source": [
    "num = 0\n",
    "while  num < 10 :\n",
    "    num += 1\n",
    "    if num == 5:\n",
    "        continue\n",
    "    print(num)\n",
    "   "
   ]
  },
  {
   "cell_type": "code",
   "execution_count": 17,
   "metadata": {},
   "outputs": [
    {
     "data": {
      "text/plain": [
       "[125]"
      ]
     },
     "execution_count": 17,
     "metadata": {},
     "output_type": "execute_result"
    }
   ],
   "source": [
    "def my_func(num):\n",
    "    return [num ** 3]\n",
    "    \n",
    "my_func(5)"
   ]
  },
  {
   "cell_type": "code",
   "execution_count": 19,
   "metadata": {},
   "outputs": [
    {
     "name": "stdout",
     "output_type": "stream",
     "text": [
      "hallo\n"
     ]
    }
   ],
   "source": [
    "my_string = 'some'\n",
    "for char in my_string:\n",
    "   pass\n",
    "\n",
    "print('hallo')"
   ]
  }
 ],
 "metadata": {
  "kernelspec": {
   "display_name": "Python 3",
   "language": "python",
   "name": "python3"
  },
  "language_info": {
   "codemirror_mode": {
    "name": "ipython",
    "version": 3
   },
   "file_extension": ".py",
   "mimetype": "text/x-python",
   "name": "python",
   "nbconvert_exporter": "python",
   "pygments_lexer": "ipython3",
   "version": "3.11.3"
  },
  "orig_nbformat": 4
 },
 "nbformat": 4,
 "nbformat_minor": 2
}
