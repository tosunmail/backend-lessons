{
 "cells": [
  {
   "cell_type": "code",
   "execution_count": 13,
   "metadata": {},
   "outputs": [
    {
     "name": "stdout",
     "output_type": "stream",
     "text": [
      "this block works!\n"
     ]
    }
   ],
   "source": [
    "if True:\n",
    "    print('this block works!')"
   ]
  },
  {
   "cell_type": "code",
   "execution_count": 50,
   "metadata": {},
   "outputs": [
    {
     "name": "stdout",
     "output_type": "stream",
     "text": [
      "take jacket at least\n"
     ]
    }
   ],
   "source": [
    "rainy = False\n",
    "cloudy = True\n",
    "if rainy: \n",
    "    print('take umbrella!')\n",
    "elif cloudy:\n",
    "    print('take jacket at least')    \n",
    "else:\n",
    "    print('no umbrella needed')"
   ]
  },
  {
   "cell_type": "code",
   "execution_count": 59,
   "metadata": {},
   "outputs": [
    {
     "name": "stdout",
     "output_type": "stream",
     "text": [
      "15 is  greater than 10 \n"
     ]
    }
   ],
   "source": [
    "a = 15\n",
    "b = 10\n",
    "\n",
    "if a > b:\n",
    "    print(f'{a} is  greater than {b} ')\n",
    "elif a == b:\n",
    "    print(f'{a} and {b} are equel ')\n",
    "else:\n",
    "    print(f'{a} is smaller')\n"
   ]
  },
  {
   "cell_type": "code",
   "execution_count": 61,
   "metadata": {},
   "outputs": [
    {
     "name": "stdout",
     "output_type": "stream",
     "text": [
      "num is less than or equal to 10\n"
     ]
    }
   ],
   "source": [
    "num = 5\n",
    "if num > 10:\n",
    "  print(\"num is greater than 10\")\n",
    "else:\n",
    "  print(\"num is less than or equal to 10\")"
   ]
  },
  {
   "cell_type": "code",
   "execution_count": 63,
   "metadata": {},
   "outputs": [
    {
     "name": "stdout",
     "output_type": "stream",
     "text": [
      "num is less than or equal to 10\n"
     ]
    }
   ],
   "source": [
    "print(\"num is greater than 10\") if num > 10 else print(\"num is less than or equal to 10\")"
   ]
  },
  {
   "cell_type": "code",
   "execution_count": 68,
   "metadata": {},
   "outputs": [
    {
     "name": "stdout",
     "output_type": "stream",
     "text": [
      "Page number 10\n"
     ]
    }
   ],
   "source": [
    "status = 200\n",
    "\n",
    "match status:\n",
    "    case 200:\n",
    "        print('Page number 10')\n",
    "    case 400:\n",
    "        print('bad request') \n",
    "    case _:\n",
    "        print('another status code')       "
   ]
  },
  {
   "cell_type": "code",
   "execution_count": null,
   "metadata": {},
   "outputs": [],
   "source": []
  }
 ],
 "metadata": {
  "kernelspec": {
   "display_name": "Python 3",
   "language": "python",
   "name": "python3"
  },
  "language_info": {
   "codemirror_mode": {
    "name": "ipython",
    "version": 3
   },
   "file_extension": ".py",
   "mimetype": "text/x-python",
   "name": "python",
   "nbconvert_exporter": "python",
   "pygments_lexer": "ipython3",
   "version": "3.11.3"
  },
  "orig_nbformat": 4
 },
 "nbformat": 4,
 "nbformat_minor": 2
}
